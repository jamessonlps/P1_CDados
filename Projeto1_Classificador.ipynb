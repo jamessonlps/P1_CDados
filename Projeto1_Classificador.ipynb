{
 "cells": [
  {
   "cell_type": "markdown",
   "metadata": {},
   "source": [
    "# Projeto 1 - Ciência dos Dados"
   ]
  },
  {
   "cell_type": "markdown",
   "metadata": {},
   "source": [
    "Nome: _____\n",
    "\n",
    "Nome: _____"
   ]
  },
  {
   "cell_type": "markdown",
   "metadata": {},
   "source": [
    "**Atenção:** Serão permitidos grupos de três pessoas, mas com uma rubrica mais exigente. Grupos deste tamanho precisarão fazer um questionário de avaliação de trabalho em equipe"
   ]
  },
  {
   "cell_type": "markdown",
   "metadata": {},
   "source": [
    "___\n",
    "Carregando algumas bibliotecas:"
   ]
  },
  {
   "cell_type": "code",
   "execution_count": 1,
   "metadata": {},
   "outputs": [],
   "source": [
    "%matplotlib inline\n",
    "import pandas as pd\n",
    "import matplotlib.pyplot as plt\n",
    "import numpy as np\n",
    "import os"
   ]
  },
  {
   "cell_type": "markdown",
   "metadata": {},
   "source": [
    "**Em `filename`, coloque o nome do seu arquivo de dados!**"
   ]
  },
  {
   "cell_type": "code",
   "execution_count": 2,
   "metadata": {
    "scrolled": false
   },
   "outputs": [
    {
     "name": "stdout",
     "output_type": "stream",
     "text": [
      "Encontrei o arquivo guarana_jesus.xlsx, tudo certo para prosseguir com a prova!\n"
     ]
    }
   ],
   "source": [
    "import os\n",
    "\n",
    "filename = 'guarana_jesus.xlsx'\n",
    "if filename in os.listdir():\n",
    "    print(f'Encontrei o arquivo {filename}, tudo certo para prosseguir com a prova!')\n",
    "else:\n",
    "    print(f'Não encontrei o arquivo {filename} aqui no diretório {os.getcwd()}, será que você não baixou o arquivo?')"
   ]
  },
  {
   "cell_type": "markdown",
   "metadata": {},
   "source": [
    "Carregando a base de dados com os tweets classificados como relevantes e não relevantes:"
   ]
  },
  {
   "cell_type": "code",
   "execution_count": 3,
   "metadata": {},
   "outputs": [
    {
     "data": {
      "text/html": [
       "<div>\n",
       "<style scoped>\n",
       "    .dataframe tbody tr th:only-of-type {\n",
       "        vertical-align: middle;\n",
       "    }\n",
       "\n",
       "    .dataframe tbody tr th {\n",
       "        vertical-align: top;\n",
       "    }\n",
       "\n",
       "    .dataframe thead th {\n",
       "        text-align: right;\n",
       "    }\n",
       "</style>\n",
       "<table border=\"1\" class=\"dataframe\">\n",
       "  <thead>\n",
       "    <tr style=\"text-align: right;\">\n",
       "      <th></th>\n",
       "      <th>Treinamento</th>\n",
       "      <th>Classificação</th>\n",
       "    </tr>\n",
       "  </thead>\n",
       "  <tbody>\n",
       "    <tr>\n",
       "      <td>0</td>\n",
       "      <td>rt @giussilvestre: os éguas que tão cancelando...</td>\n",
       "      <td>0</td>\n",
       "    </tr>\n",
       "    <tr>\n",
       "      <td>1</td>\n",
       "      <td>@whindersson @lilwhind guaraná jesus... show d...</td>\n",
       "      <td>1</td>\n",
       "    </tr>\n",
       "    <tr>\n",
       "      <td>2</td>\n",
       "      <td>bissexuais tomando guarana jesus</td>\n",
       "      <td>0</td>\n",
       "    </tr>\n",
       "    <tr>\n",
       "      <td>3</td>\n",
       "      <td>@whindersson @lilwhind guaraná jesus é tipo al...</td>\n",
       "      <td>0</td>\n",
       "    </tr>\n",
       "    <tr>\n",
       "      <td>4</td>\n",
       "      <td>rt @maickjhonn: piaui nem tem guaraná jesus is...</td>\n",
       "      <td>0</td>\n",
       "    </tr>\n",
       "  </tbody>\n",
       "</table>\n",
       "</div>"
      ],
      "text/plain": [
       "                                         Treinamento  Classificação\n",
       "0  rt @giussilvestre: os éguas que tão cancelando...              0\n",
       "1  @whindersson @lilwhind guaraná jesus... show d...              1\n",
       "2                   bissexuais tomando guarana jesus              0\n",
       "3  @whindersson @lilwhind guaraná jesus é tipo al...              0\n",
       "4  rt @maickjhonn: piaui nem tem guaraná jesus is...              0"
      ]
     },
     "execution_count": 3,
     "metadata": {},
     "output_type": "execute_result"
    }
   ],
   "source": [
    "train = pd.read_excel(filename)\n",
    "train.head(5)"
   ]
  },
  {
   "cell_type": "code",
   "execution_count": 4,
   "metadata": {},
   "outputs": [
    {
     "data": {
      "text/html": [
       "<div>\n",
       "<style scoped>\n",
       "    .dataframe tbody tr th:only-of-type {\n",
       "        vertical-align: middle;\n",
       "    }\n",
       "\n",
       "    .dataframe tbody tr th {\n",
       "        vertical-align: top;\n",
       "    }\n",
       "\n",
       "    .dataframe thead th {\n",
       "        text-align: right;\n",
       "    }\n",
       "</style>\n",
       "<table border=\"1\" class=\"dataframe\">\n",
       "  <thead>\n",
       "    <tr style=\"text-align: right;\">\n",
       "      <th></th>\n",
       "      <th>Teste</th>\n",
       "      <th>Classificação</th>\n",
       "    </tr>\n",
       "  </thead>\n",
       "  <tbody>\n",
       "    <tr>\n",
       "      <td>0</td>\n",
       "      <td>foda que ela é coca-cola e eu guaraná jesus😫</td>\n",
       "      <td>1</td>\n",
       "    </tr>\n",
       "    <tr>\n",
       "      <td>1</td>\n",
       "      <td>@niyeongs @tealcookie eu gostei de pernambuco ...</td>\n",
       "      <td>0</td>\n",
       "    </tr>\n",
       "    <tr>\n",
       "      <td>2</td>\n",
       "      <td>rt @botbissexual: bissexuais tomando guarana j...</td>\n",
       "      <td>0</td>\n",
       "    </tr>\n",
       "    <tr>\n",
       "      <td>3</td>\n",
       "      <td>a bandeira do estado do cara parece mais uma l...</td>\n",
       "      <td>0</td>\n",
       "    </tr>\n",
       "    <tr>\n",
       "      <td>4</td>\n",
       "      <td>rt @marilhera: @inesteticas cajuína meets guar...</td>\n",
       "      <td>0</td>\n",
       "    </tr>\n",
       "  </tbody>\n",
       "</table>\n",
       "</div>"
      ],
      "text/plain": [
       "                                               Teste  Classificação\n",
       "0       foda que ela é coca-cola e eu guaraná jesus😫              1\n",
       "1  @niyeongs @tealcookie eu gostei de pernambuco ...              0\n",
       "2  rt @botbissexual: bissexuais tomando guarana j...              0\n",
       "3  a bandeira do estado do cara parece mais uma l...              0\n",
       "4  rt @marilhera: @inesteticas cajuína meets guar...              0"
      ]
     },
     "execution_count": 4,
     "metadata": {},
     "output_type": "execute_result"
    }
   ],
   "source": [
    "test = pd.read_excel(filename, sheet_name = 'Teste')\n",
    "test.head(5)"
   ]
  },
  {
   "cell_type": "markdown",
   "metadata": {},
   "source": [
    "___\n",
    "## Classificador automático de sentimento\n"
   ]
  },
  {
   "cell_type": "markdown",
   "metadata": {},
   "source": [
    "Faça aqui uma descrição do seu produto e o que considerou como relevante ou não relevante na classificação dos tweets.\n",
    "\n",
    "ESCREVA AQUI..."
   ]
  },
  {
   "cell_type": "markdown",
   "metadata": {},
   "source": [
    "___\n",
    "### Montando um Classificador Naive-Bayes\n",
    "\n",
    "Considerando apenas as mensagens da planilha Treinamento, ensine  seu classificador."
   ]
  },
  {
   "cell_type": "code",
   "execution_count": 5,
   "metadata": {},
   "outputs": [
    {
     "data": {
      "text/html": [
       "<div>\n",
       "<style scoped>\n",
       "    .dataframe tbody tr th:only-of-type {\n",
       "        vertical-align: middle;\n",
       "    }\n",
       "\n",
       "    .dataframe tbody tr th {\n",
       "        vertical-align: top;\n",
       "    }\n",
       "\n",
       "    .dataframe thead th {\n",
       "        text-align: right;\n",
       "    }\n",
       "</style>\n",
       "<table border=\"1\" class=\"dataframe\">\n",
       "  <thead>\n",
       "    <tr style=\"text-align: right;\">\n",
       "      <th></th>\n",
       "      <th>Treinamento</th>\n",
       "      <th>Classificação</th>\n",
       "    </tr>\n",
       "  </thead>\n",
       "  <tbody>\n",
       "    <tr>\n",
       "      <td>0</td>\n",
       "      <td>rt @giussilvestre: os éguas que tão cancelando...</td>\n",
       "      <td>No</td>\n",
       "    </tr>\n",
       "    <tr>\n",
       "      <td>1</td>\n",
       "      <td>@whindersson @lilwhind guaraná jesus... show d...</td>\n",
       "      <td>Yes</td>\n",
       "    </tr>\n",
       "    <tr>\n",
       "      <td>2</td>\n",
       "      <td>bissexuais tomando guarana jesus</td>\n",
       "      <td>No</td>\n",
       "    </tr>\n",
       "    <tr>\n",
       "      <td>3</td>\n",
       "      <td>@whindersson @lilwhind guaraná jesus é tipo al...</td>\n",
       "      <td>No</td>\n",
       "    </tr>\n",
       "    <tr>\n",
       "      <td>4</td>\n",
       "      <td>rt @maickjhonn: piaui nem tem guaraná jesus is...</td>\n",
       "      <td>No</td>\n",
       "    </tr>\n",
       "  </tbody>\n",
       "</table>\n",
       "</div>"
      ],
      "text/plain": [
       "                                         Treinamento Classificação\n",
       "0  rt @giussilvestre: os éguas que tão cancelando...            No\n",
       "1  @whindersson @lilwhind guaraná jesus... show d...           Yes\n",
       "2                   bissexuais tomando guarana jesus            No\n",
       "3  @whindersson @lilwhind guaraná jesus é tipo al...            No\n",
       "4  rt @maickjhonn: piaui nem tem guaraná jesus is...            No"
      ]
     },
     "execution_count": 5,
     "metadata": {},
     "output_type": "execute_result"
    }
   ],
   "source": [
    "train['Classificação'] = train['Classificação'].astype('category')\n",
    "train['Classificação'].cat.categories = ['No', 'Yes']\n",
    "train['Classificação'] = pd.Categorical(train['Classificação'], categories = ['No', 'Yes'], ordered = False)\n",
    "train.head()"
   ]
  },
  {
   "cell_type": "code",
   "execution_count": 6,
   "metadata": {},
   "outputs": [
    {
     "data": {
      "text/html": [
       "<div>\n",
       "<style scoped>\n",
       "    .dataframe tbody tr th:only-of-type {\n",
       "        vertical-align: middle;\n",
       "    }\n",
       "\n",
       "    .dataframe tbody tr th {\n",
       "        vertical-align: top;\n",
       "    }\n",
       "\n",
       "    .dataframe thead th {\n",
       "        text-align: right;\n",
       "    }\n",
       "</style>\n",
       "<table border=\"1\" class=\"dataframe\">\n",
       "  <thead>\n",
       "    <tr style=\"text-align: right;\">\n",
       "      <th></th>\n",
       "      <th>Treinamento</th>\n",
       "      <th>Classificação</th>\n",
       "    </tr>\n",
       "  </thead>\n",
       "  <tbody>\n",
       "    <tr>\n",
       "      <td>0</td>\n",
       "      <td>@giussilvestre os éguas que tão cancelando a t...</td>\n",
       "      <td>No</td>\n",
       "    </tr>\n",
       "    <tr>\n",
       "      <td>1</td>\n",
       "      <td>@whindersson @lilwhind guaraná jesus show de b...</td>\n",
       "      <td>Yes</td>\n",
       "    </tr>\n",
       "    <tr>\n",
       "      <td>2</td>\n",
       "      <td>bissexuais tomando guarana jesus</td>\n",
       "      <td>No</td>\n",
       "    </tr>\n",
       "    <tr>\n",
       "      <td>3</td>\n",
       "      <td>@whindersson @lilwhind guaraná jesus é tipo al...</td>\n",
       "      <td>No</td>\n",
       "    </tr>\n",
       "    <tr>\n",
       "      <td>4</td>\n",
       "      <td>@maickjhonn piaui nem tem guaraná jesus isso é...</td>\n",
       "      <td>No</td>\n",
       "    </tr>\n",
       "    <tr>\n",
       "      <td>5</td>\n",
       "      <td>a brusinha de frio do guaraná jesus por favor ...</td>\n",
       "      <td>No</td>\n",
       "    </tr>\n",
       "    <tr>\n",
       "      <td>6</td>\n",
       "      <td>@badtux_ guaraná jesus é muito injusto vc apel...</td>\n",
       "      <td>Yes</td>\n",
       "    </tr>\n",
       "    <tr>\n",
       "      <td>7</td>\n",
       "      <td>@flyingpeachess jogar muito jogo de terror tam...</td>\n",
       "      <td>No</td>\n",
       "    </tr>\n",
       "    <tr>\n",
       "      <td>8</td>\n",
       "      <td>@whindersson @lilwhind você não sabe oquanto e...</td>\n",
       "      <td>Yes</td>\n",
       "    </tr>\n",
       "    <tr>\n",
       "      <td>9</td>\n",
       "      <td>o moletom guaraná jesus customizado senhorrrr ...</td>\n",
       "      <td>No</td>\n",
       "    </tr>\n",
       "  </tbody>\n",
       "</table>\n",
       "</div>"
      ],
      "text/plain": [
       "                                         Treinamento Classificação\n",
       "0  @giussilvestre os éguas que tão cancelando a t...            No\n",
       "1  @whindersson @lilwhind guaraná jesus show de b...           Yes\n",
       "2                   bissexuais tomando guarana jesus            No\n",
       "3  @whindersson @lilwhind guaraná jesus é tipo al...            No\n",
       "4  @maickjhonn piaui nem tem guaraná jesus isso é...            No\n",
       "5  a brusinha de frio do guaraná jesus por favor ...            No\n",
       "6  @badtux_ guaraná jesus é muito injusto vc apel...           Yes\n",
       "7  @flyingpeachess jogar muito jogo de terror tam...            No\n",
       "8  @whindersson @lilwhind você não sabe oquanto e...           Yes\n",
       "9  o moletom guaraná jesus customizado senhorrrr ...            No"
      ]
     },
     "execution_count": 6,
     "metadata": {},
     "output_type": "execute_result"
    }
   ],
   "source": [
    "import re\n",
    "\n",
    "def cleanup(text):\n",
    "    \"\"\"\n",
    "        Função de limpeza muito simples que troca alguns sinais básicos por espaços\n",
    "    \"\"\"\n",
    "    #import string\n",
    "    punctuation = '[!-.:?;]' # Note que os sinais [] são delimitadores de um conjunto.\n",
    "    pattern = re.compile(punctuation)\n",
    "    text_subbed = re.sub(pattern, '', text)\n",
    "    return text_subbed\n",
    "\n",
    "\n",
    "for i in range(320):\n",
    "    train = train.replace(train['Treinamento'][i], cleanup(train['Treinamento'][i]))\n",
    "    train['Treinamento'] = train['Treinamento'].str.replace('[\\n]', '')\n",
    "    \n",
    "    if train['Treinamento'][i][:2] == 'rt':\n",
    "        train = train.replace(train['Treinamento'][i], train['Treinamento'][i][3:])\n",
    "        \n",
    "    train = train.replace(train['Treinamento'][i], train['Treinamento'][i].lower())\n",
    "\n",
    "train.head(10)"
   ]
  },
  {
   "cell_type": "code",
   "execution_count": 7,
   "metadata": {},
   "outputs": [
    {
     "data": {
      "text/html": [
       "<div>\n",
       "<style scoped>\n",
       "    .dataframe tbody tr th:only-of-type {\n",
       "        vertical-align: middle;\n",
       "    }\n",
       "\n",
       "    .dataframe tbody tr th {\n",
       "        vertical-align: top;\n",
       "    }\n",
       "\n",
       "    .dataframe thead th {\n",
       "        text-align: right;\n",
       "    }\n",
       "</style>\n",
       "<table border=\"1\" class=\"dataframe\">\n",
       "  <thead>\n",
       "    <tr style=\"text-align: right;\">\n",
       "      <th></th>\n",
       "      <th>Treinamento</th>\n",
       "      <th>Classificação</th>\n",
       "      <th>separados</th>\n",
       "    </tr>\n",
       "  </thead>\n",
       "  <tbody>\n",
       "    <tr>\n",
       "      <td>0</td>\n",
       "      <td>@giussilvestre os éguas que tão cancelando a t...</td>\n",
       "      <td>No</td>\n",
       "      <td>[@giussilvestre, os, éguas, que, tão, cancelan...</td>\n",
       "    </tr>\n",
       "    <tr>\n",
       "      <td>1</td>\n",
       "      <td>@whindersson @lilwhind guaraná jesus show de b...</td>\n",
       "      <td>Yes</td>\n",
       "      <td>[@whindersson, @lilwhind, guaraná, jesus, show...</td>\n",
       "    </tr>\n",
       "    <tr>\n",
       "      <td>2</td>\n",
       "      <td>bissexuais tomando guarana jesus</td>\n",
       "      <td>No</td>\n",
       "      <td>[bissexuais, tomando, guarana, jesus]</td>\n",
       "    </tr>\n",
       "    <tr>\n",
       "      <td>3</td>\n",
       "      <td>@whindersson @lilwhind guaraná jesus é tipo al...</td>\n",
       "      <td>No</td>\n",
       "      <td>[@whindersson, @lilwhind, guaraná, jesus, é, t...</td>\n",
       "    </tr>\n",
       "    <tr>\n",
       "      <td>4</td>\n",
       "      <td>@maickjhonn piaui nem tem guaraná jesus isso é...</td>\n",
       "      <td>No</td>\n",
       "      <td>[@maickjhonn, piaui, nem, tem, guaraná, jesus,...</td>\n",
       "    </tr>\n",
       "  </tbody>\n",
       "</table>\n",
       "</div>"
      ],
      "text/plain": [
       "                                         Treinamento Classificação  \\\n",
       "0  @giussilvestre os éguas que tão cancelando a t...            No   \n",
       "1  @whindersson @lilwhind guaraná jesus show de b...           Yes   \n",
       "2                   bissexuais tomando guarana jesus            No   \n",
       "3  @whindersson @lilwhind guaraná jesus é tipo al...            No   \n",
       "4  @maickjhonn piaui nem tem guaraná jesus isso é...            No   \n",
       "\n",
       "                                           separados  \n",
       "0  [@giussilvestre, os, éguas, que, tão, cancelan...  \n",
       "1  [@whindersson, @lilwhind, guaraná, jesus, show...  \n",
       "2              [bissexuais, tomando, guarana, jesus]  \n",
       "3  [@whindersson, @lilwhind, guaraná, jesus, é, t...  \n",
       "4  [@maickjhonn, piaui, nem, tem, guaraná, jesus,...  "
      ]
     },
     "execution_count": 7,
     "metadata": {},
     "output_type": "execute_result"
    }
   ],
   "source": [
    "all_tweets = []\n",
    "\n",
    "i = 0\n",
    "while i < 320:\n",
    "    all_tweets.append(train['Treinamento'][i].split())\n",
    "    i+=1\n",
    "    \n",
    "train['separados'] = 'Nan'\n",
    "\n",
    "i = 0\n",
    "while i < 320:\n",
    "    train['separados'][i] = all_tweets[i]\n",
    "    i+=1\n",
    "    \n",
    "all_words = []\n",
    "\n",
    "i = 0 \n",
    "while i < 320:\n",
    "    j = 0\n",
    "    while j < len(all_tweets[i]):\n",
    "        all_words.append(all_tweets[i][j])\n",
    "        j+=1\n",
    "    i+=1\n",
    "    \n",
    "train.head()"
   ]
  },
  {
   "cell_type": "code",
   "execution_count": 8,
   "metadata": {},
   "outputs": [
    {
     "data": {
      "text/plain": [
       "jesus                    0.069987\n",
       "guaraná                  0.063481\n",
       "de                       0.028264\n",
       "do                       0.025123\n",
       "e                        0.021086\n",
       "                           ...   \n",
       "vendido                  0.000224\n",
       "@royairene               0.000224\n",
       "https//tco/bceba7nilo    0.000224\n",
       "antes                    0.000224\n",
       "curto                    0.000224\n",
       "Length: 1424, dtype: float64"
      ]
     },
     "execution_count": 8,
     "metadata": {},
     "output_type": "execute_result"
    }
   ],
   "source": [
    "serie_train = pd.Series(all_words)\n",
    "\n",
    "tabela_train_relativa = serie_train.value_counts(True)\n",
    "tabela_train_relativa"
   ]
  },
  {
   "cell_type": "code",
   "execution_count": 12,
   "metadata": {},
   "outputs": [
    {
     "data": {
      "text/html": [
       "<div>\n",
       "<style scoped>\n",
       "    .dataframe tbody tr th:only-of-type {\n",
       "        vertical-align: middle;\n",
       "    }\n",
       "\n",
       "    .dataframe tbody tr th {\n",
       "        vertical-align: top;\n",
       "    }\n",
       "\n",
       "    .dataframe thead th {\n",
       "        text-align: right;\n",
       "    }\n",
       "</style>\n",
       "<table border=\"1\" class=\"dataframe\">\n",
       "  <thead>\n",
       "    <tr style=\"text-align: right;\">\n",
       "      <th></th>\n",
       "      <th>Treinamento</th>\n",
       "      <th>Classificação</th>\n",
       "      <th>separados</th>\n",
       "    </tr>\n",
       "  </thead>\n",
       "  <tbody>\n",
       "    <tr>\n",
       "      <td>1</td>\n",
       "      <td>@whindersson @lilwhind guaraná jesus show de b...</td>\n",
       "      <td>Yes</td>\n",
       "      <td>[@whindersson, @lilwhind, guaraná, jesus, show...</td>\n",
       "    </tr>\n",
       "    <tr>\n",
       "      <td>6</td>\n",
       "      <td>@badtux_ guaraná jesus é muito injusto vc apel...</td>\n",
       "      <td>Yes</td>\n",
       "      <td>[@badtux_, guaraná, jesus, é, muito, injusto, ...</td>\n",
       "    </tr>\n",
       "    <tr>\n",
       "      <td>8</td>\n",
       "      <td>@whindersson @lilwhind você não sabe oquanto e...</td>\n",
       "      <td>Yes</td>\n",
       "      <td>[@whindersson, @lilwhind, você, não, sabe, oqu...</td>\n",
       "    </tr>\n",
       "    <tr>\n",
       "      <td>12</td>\n",
       "      <td>off namoraria comigonome vitóriaaltura 152cor ...</td>\n",
       "      <td>Yes</td>\n",
       "      <td>[off, namoraria, comigonome, vitóriaaltura, 15...</td>\n",
       "    </tr>\n",
       "    <tr>\n",
       "      <td>16</td>\n",
       "      <td>tive q abrir outra garrafa de guaraná jesus kk...</td>\n",
       "      <td>Yes</td>\n",
       "      <td>[tive, q, abrir, outra, garrafa, de, guaraná, ...</td>\n",
       "    </tr>\n",
       "  </tbody>\n",
       "</table>\n",
       "</div>"
      ],
      "text/plain": [
       "                                          Treinamento Classificação  \\\n",
       "1   @whindersson @lilwhind guaraná jesus show de b...           Yes   \n",
       "6   @badtux_ guaraná jesus é muito injusto vc apel...           Yes   \n",
       "8   @whindersson @lilwhind você não sabe oquanto e...           Yes   \n",
       "12  off namoraria comigonome vitóriaaltura 152cor ...           Yes   \n",
       "16  tive q abrir outra garrafa de guaraná jesus kk...           Yes   \n",
       "\n",
       "                                            separados  \n",
       "1   [@whindersson, @lilwhind, guaraná, jesus, show...  \n",
       "6   [@badtux_, guaraná, jesus, é, muito, injusto, ...  \n",
       "8   [@whindersson, @lilwhind, você, não, sabe, oqu...  \n",
       "12  [off, namoraria, comigonome, vitóriaaltura, 15...  \n",
       "16  [tive, q, abrir, outra, garrafa, de, guaraná, ...  "
      ]
     },
     "execution_count": 12,
     "metadata": {},
     "output_type": "execute_result"
    }
   ],
   "source": [
    "train_R = train.loc[train['Classificação'] == 'Yes', :]\n",
    "train_Rc = train.loc[train['Classificação'] == 'No', :]\n",
    "\n",
    "relevant_words = []\n",
    "\n",
    "for frase in train_R['separados']:\n",
    "    j = 0\n",
    "    while j < len(frase):\n",
    "        relevant_words.append(frase[j])\n",
    "        j+=1\n",
    "\n",
    "irrelevant_words = []\n",
    "\n",
    "for frase in train_Rc['separados']:\n",
    "    j = 0\n",
    "    while j < len(frase):\n",
    "        irrelevant_words.append(frase[j])\n",
    "        j+=1\n",
    "        \n",
    "train_R.head()"
   ]
  },
  {
   "cell_type": "code",
   "execution_count": 18,
   "metadata": {},
   "outputs": [
    {
     "data": {
      "text/plain": [
       "0.005931784478497282"
      ]
     },
     "execution_count": 18,
     "metadata": {},
     "output_type": "execute_result"
    }
   ],
   "source": [
    "serie_train_R = pd.Series(relevant_words)\n",
    "tabela_train_R_relativa = serie_train_R.value_counts(True)\n",
    "\n",
    "serie_train_Rc = pd.Series(irrelevant_words)\n",
    "tabela_train_Rc_relativa = serie_train_Rc.value_counts(True)\n"
   ]
  },
  {
   "cell_type": "code",
   "execution_count": 11,
   "metadata": {},
   "outputs": [
    {
     "name": "stdout",
     "output_type": "stream",
     "text": [
      "0.4537909376401974 0.5462090623598026\n"
     ]
    }
   ],
   "source": [
    "P_R = len(serie_train_R) / len(serie_train)\n",
    "P_Rc = len(serie_train_Rc) / len(serie_train)\n",
    "print(P_R, P_Rc)"
   ]
  },
  {
   "cell_type": "code",
   "execution_count": 20,
   "metadata": {},
   "outputs": [
    {
     "ename": "TypeError",
     "evalue": "'float' object is not subscriptable",
     "output_type": "error",
     "traceback": [
      "\u001b[1;31m---------------------------------------------------------------------------\u001b[0m",
      "\u001b[1;31mTypeError\u001b[0m                                 Traceback (most recent call last)",
      "\u001b[1;32m<ipython-input-20-1dba9ea1c8cf>\u001b[0m in \u001b[0;36m<module>\u001b[1;34m\u001b[0m\n\u001b[0;32m      4\u001b[0m \u001b[1;32mfor\u001b[0m \u001b[0mindice\u001b[0m\u001b[1;33m,\u001b[0m \u001b[0mlinha\u001b[0m \u001b[1;32min\u001b[0m \u001b[0mtrain\u001b[0m\u001b[1;33m.\u001b[0m\u001b[0miterrows\u001b[0m\u001b[1;33m(\u001b[0m\u001b[1;33m)\u001b[0m\u001b[1;33m:\u001b[0m\u001b[1;33m\u001b[0m\u001b[1;33m\u001b[0m\u001b[0m\n\u001b[0;32m      5\u001b[0m     \u001b[1;32mfor\u001b[0m \u001b[0mpalavra\u001b[0m \u001b[1;32min\u001b[0m \u001b[0mlinha\u001b[0m\u001b[1;33m[\u001b[0m\u001b[1;34m'separados'\u001b[0m\u001b[1;33m]\u001b[0m\u001b[1;33m[\u001b[0m\u001b[0mindice\u001b[0m\u001b[1;33m]\u001b[0m\u001b[1;33m:\u001b[0m\u001b[1;33m\u001b[0m\u001b[1;33m\u001b[0m\u001b[0m\n\u001b[1;32m----> 6\u001b[1;33m         \u001b[0mlinha\u001b[0m\u001b[1;33m[\u001b[0m\u001b[1;34m'fator de prob Relevante'\u001b[0m\u001b[1;33m]\u001b[0m\u001b[1;33m[\u001b[0m\u001b[0mindice\u001b[0m\u001b[1;33m]\u001b[0m \u001b[1;33m*=\u001b[0m \u001b[0mtabela_train_R_relativa\u001b[0m\u001b[1;33m[\u001b[0m\u001b[0mpalavra\u001b[0m\u001b[1;33m]\u001b[0m\u001b[1;33m\u001b[0m\u001b[1;33m\u001b[0m\u001b[0m\n\u001b[0m\u001b[0;32m      7\u001b[0m         \u001b[0mlinha\u001b[0m\u001b[1;33m[\u001b[0m\u001b[1;34m'fator de prob Irrelevante'\u001b[0m\u001b[1;33m]\u001b[0m\u001b[1;33m[\u001b[0m\u001b[0mindice\u001b[0m\u001b[1;33m]\u001b[0m \u001b[1;33m*=\u001b[0m \u001b[0mtabela_train_Rc_relativa\u001b[0m\u001b[1;33m[\u001b[0m\u001b[0mpalavra\u001b[0m\u001b[1;33m]\u001b[0m\u001b[1;33m\u001b[0m\u001b[1;33m\u001b[0m\u001b[0m\n",
      "\u001b[1;31mTypeError\u001b[0m: 'float' object is not subscriptable"
     ]
    }
   ],
   "source": [
    "train['fator de prob Relevante'] = P_R\n",
    "train['fator de prob Irrelevante'] = P_Rc\n",
    "\n",
    "for indice, linha in train.iterrows():\n",
    "    for palavra in linha['separados'][indice]:\n",
    "        linha['fator de prob Relevante'][indice] *= tabela_train_R_relativa[palavra]\n",
    "        linha['fator de prob Irrelevante'][indice] *= tabela_train_Rc_relativa[palavra]"
   ]
  },
  {
   "cell_type": "markdown",
   "metadata": {},
   "source": [
    "___\n",
    "### Verificando a performance do Classificador\n",
    "\n",
    "Agora você deve testar o seu classificador com a base de Testes."
   ]
  },
  {
   "cell_type": "code",
   "execution_count": null,
   "metadata": {},
   "outputs": [],
   "source": []
  },
  {
   "cell_type": "code",
   "execution_count": null,
   "metadata": {},
   "outputs": [],
   "source": []
  },
  {
   "cell_type": "code",
   "execution_count": null,
   "metadata": {},
   "outputs": [],
   "source": []
  },
  {
   "cell_type": "markdown",
   "metadata": {},
   "source": [
    "___\n",
    "### Concluindo"
   ]
  },
  {
   "cell_type": "code",
   "execution_count": null,
   "metadata": {},
   "outputs": [],
   "source": []
  },
  {
   "cell_type": "code",
   "execution_count": null,
   "metadata": {},
   "outputs": [],
   "source": []
  },
  {
   "cell_type": "markdown",
   "metadata": {},
   "source": [
    "___\n",
    "## Aperfeiçoamento:\n",
    "\n",
    "Os trabalhos vão evoluir em conceito dependendo da quantidade de itens avançados:\n",
    "\n",
    "* Limpar: \\n, :, \", ', (, ), etc SEM remover emojis\n",
    "* Corrigir separação de espaços entre palavras e emojis ou entre emojis e emojis\n",
    "* Propor outras limpezas e transformações que não afetem a qualidade da informação ou classificação\n",
    "* Criar categorias intermediárias de relevância baseadas na probabilidade: ex.: muito relevante, relevante, neutro, irrelevante, muito irrelevante (3 categorias: C, mais categorias conta para B)\n",
    "* Explicar por que não posso usar o próprio classificador para gerar mais amostras de treinamento\n",
    "* Propor diferentes cenários para Naïve Bayes fora do contexto do projeto\n",
    "* Sugerir e explicar melhorias reais com indicações concretas de como implementar (indicar como fazer e indicar material de pesquisa)\n",
    "* Montar um dashboard que realiza análise de sentimento e visualiza estes dados"
   ]
  },
  {
   "cell_type": "markdown",
   "metadata": {},
   "source": [
    "___\n",
    "## Referências"
   ]
  },
  {
   "cell_type": "markdown",
   "metadata": {},
   "source": [
    "[Naive Bayes and Text Classification](https://arxiv.org/pdf/1410.5329.pdf)  **Mais completo**\n",
    "\n",
    "[A practical explanation of a Naive Bayes Classifier](https://monkeylearn.com/blog/practical-explanation-naive-bayes-classifier/) **Mais simples**"
   ]
  },
  {
   "cell_type": "code",
   "execution_count": null,
   "metadata": {},
   "outputs": [],
   "source": []
  }
 ],
 "metadata": {
  "kernelspec": {
   "display_name": "Python 3",
   "language": "python",
   "name": "python3"
  },
  "language_info": {
   "codemirror_mode": {
    "name": "ipython",
    "version": 3
   },
   "file_extension": ".py",
   "mimetype": "text/x-python",
   "name": "python",
   "nbconvert_exporter": "python",
   "pygments_lexer": "ipython3",
   "version": "3.7.4"
  }
 },
 "nbformat": 4,
 "nbformat_minor": 4
}
