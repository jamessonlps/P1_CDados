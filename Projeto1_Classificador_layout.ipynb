{
 "cells": [
  {
   "cell_type": "markdown",
   "metadata": {},
   "source": [
    "# Projeto 1 - Ciência dos Dados"
   ]
  },
  {
   "cell_type": "markdown",
   "metadata": {},
   "source": [
    "Nome: Ivan de Alcântara Barbosa Barros\n",
    "\n",
    "Nome: Jamesson Leandro Paiva Santos"
   ]
  },
  {
   "cell_type": "markdown",
   "metadata": {},
   "source": [
    "**Atenção:** Serão permitidos grupos de três pessoas, mas com uma rubrica mais exigente. Grupos deste tamanho precisarão fazer um questionário de avaliação de trabalho em equipe"
   ]
  },
  {
   "cell_type": "markdown",
   "metadata": {},
   "source": [
    "___\n",
    "Carregando algumas bibliotecas:"
   ]
  },
  {
   "cell_type": "code",
   "execution_count": 1,
   "metadata": {},
   "outputs": [],
   "source": [
    "%matplotlib inline\n",
    "import pandas as pd\n",
    "import matplotlib.pyplot as plt\n",
    "import numpy as np\n",
    "import os"
   ]
  },
  {
   "cell_type": "markdown",
   "metadata": {},
   "source": [
    "**Em `filename`, coloque o nome do seu arquivo de dados!**"
   ]
  },
  {
   "cell_type": "code",
   "execution_count": 2,
   "metadata": {
    "scrolled": false
   },
   "outputs": [
    {
     "name": "stdout",
     "output_type": "stream",
     "text": [
      "Encontrei o arquivo guarana_jesus.xlsx, tudo certo para prosseguir com a prova!\n"
     ]
    }
   ],
   "source": [
    "import os\n",
    "\n",
    "filename = 'guarana_jesus.xlsx'\n",
    "if filename in os.listdir():\n",
    "    print(f'Encontrei o arquivo {filename}, tudo certo para prosseguir com a prova!')\n",
    "else:\n",
    "    print(f'Não encontrei o arquivo {filename} aqui no diretório {os.getcwd()}, será que você não baixou o arquivo?')"
   ]
  },
  {
   "cell_type": "markdown",
   "metadata": {},
   "source": [
    "Carregando a base de dados com os tweets classificados como relevantes e não relevantes:"
   ]
  },
  {
   "cell_type": "code",
   "execution_count": 3,
   "metadata": {},
   "outputs": [
    {
     "data": {
      "text/html": [
       "<div>\n",
       "<style scoped>\n",
       "    .dataframe tbody tr th:only-of-type {\n",
       "        vertical-align: middle;\n",
       "    }\n",
       "\n",
       "    .dataframe tbody tr th {\n",
       "        vertical-align: top;\n",
       "    }\n",
       "\n",
       "    .dataframe thead th {\n",
       "        text-align: right;\n",
       "    }\n",
       "</style>\n",
       "<table border=\"1\" class=\"dataframe\">\n",
       "  <thead>\n",
       "    <tr style=\"text-align: right;\">\n",
       "      <th></th>\n",
       "      <th>Treinamento</th>\n",
       "      <th>Classificação</th>\n",
       "    </tr>\n",
       "  </thead>\n",
       "  <tbody>\n",
       "    <tr>\n",
       "      <th>0</th>\n",
       "      <td>rt @giussilvestre: os éguas que tão cancelando...</td>\n",
       "      <td>0</td>\n",
       "    </tr>\n",
       "    <tr>\n",
       "      <th>1</th>\n",
       "      <td>@whindersson @lilwhind guaraná jesus... show d...</td>\n",
       "      <td>1</td>\n",
       "    </tr>\n",
       "    <tr>\n",
       "      <th>2</th>\n",
       "      <td>bissexuais tomando guarana jesus</td>\n",
       "      <td>0</td>\n",
       "    </tr>\n",
       "    <tr>\n",
       "      <th>3</th>\n",
       "      <td>@whindersson @lilwhind guaraná jesus é tipo al...</td>\n",
       "      <td>0</td>\n",
       "    </tr>\n",
       "    <tr>\n",
       "      <th>4</th>\n",
       "      <td>rt @maickjhonn: piaui nem tem guaraná jesus is...</td>\n",
       "      <td>0</td>\n",
       "    </tr>\n",
       "  </tbody>\n",
       "</table>\n",
       "</div>"
      ],
      "text/plain": [
       "                                         Treinamento  Classificação\n",
       "0  rt @giussilvestre: os éguas que tão cancelando...              0\n",
       "1  @whindersson @lilwhind guaraná jesus... show d...              1\n",
       "2                   bissexuais tomando guarana jesus              0\n",
       "3  @whindersson @lilwhind guaraná jesus é tipo al...              0\n",
       "4  rt @maickjhonn: piaui nem tem guaraná jesus is...              0"
      ]
     },
     "execution_count": 3,
     "metadata": {},
     "output_type": "execute_result"
    }
   ],
   "source": [
    "# Carrega dataset de treino\n",
    "train = pd.read_excel(filename)\n",
    "train.head(5)"
   ]
  },
  {
   "cell_type": "code",
   "execution_count": 4,
   "metadata": {
    "scrolled": false
   },
   "outputs": [
    {
     "data": {
      "text/html": [
       "<div>\n",
       "<style scoped>\n",
       "    .dataframe tbody tr th:only-of-type {\n",
       "        vertical-align: middle;\n",
       "    }\n",
       "\n",
       "    .dataframe tbody tr th {\n",
       "        vertical-align: top;\n",
       "    }\n",
       "\n",
       "    .dataframe thead th {\n",
       "        text-align: right;\n",
       "    }\n",
       "</style>\n",
       "<table border=\"1\" class=\"dataframe\">\n",
       "  <thead>\n",
       "    <tr style=\"text-align: right;\">\n",
       "      <th></th>\n",
       "      <th>Teste</th>\n",
       "      <th>Classificação</th>\n",
       "    </tr>\n",
       "  </thead>\n",
       "  <tbody>\n",
       "    <tr>\n",
       "      <th>0</th>\n",
       "      <td>foda que ela é coca-cola e eu guaraná jesus😫</td>\n",
       "      <td>1</td>\n",
       "    </tr>\n",
       "    <tr>\n",
       "      <th>1</th>\n",
       "      <td>@niyeongs @tealcookie eu gostei de pernambuco ...</td>\n",
       "      <td>0</td>\n",
       "    </tr>\n",
       "    <tr>\n",
       "      <th>2</th>\n",
       "      <td>rt @botbissexual: bissexuais tomando guarana j...</td>\n",
       "      <td>0</td>\n",
       "    </tr>\n",
       "    <tr>\n",
       "      <th>3</th>\n",
       "      <td>a bandeira do estado do cara parece mais uma l...</td>\n",
       "      <td>0</td>\n",
       "    </tr>\n",
       "    <tr>\n",
       "      <th>4</th>\n",
       "      <td>rt @marilhera: @inesteticas cajuína meets guar...</td>\n",
       "      <td>0</td>\n",
       "    </tr>\n",
       "  </tbody>\n",
       "</table>\n",
       "</div>"
      ],
      "text/plain": [
       "                                               Teste  Classificação\n",
       "0       foda que ela é coca-cola e eu guaraná jesus😫              1\n",
       "1  @niyeongs @tealcookie eu gostei de pernambuco ...              0\n",
       "2  rt @botbissexual: bissexuais tomando guarana j...              0\n",
       "3  a bandeira do estado do cara parece mais uma l...              0\n",
       "4  rt @marilhera: @inesteticas cajuína meets guar...              0"
      ]
     },
     "execution_count": 4,
     "metadata": {},
     "output_type": "execute_result"
    }
   ],
   "source": [
    "# Carrega dataset de teste\n",
    "test = pd.read_excel(filename, sheet_name = 'Teste')\n",
    "test.head(5)"
   ]
  },
  {
   "cell_type": "code",
   "execution_count": 5,
   "metadata": {},
   "outputs": [
    {
     "data": {
      "text/plain": [
       "pandas.core.frame.DataFrame"
      ]
     },
     "execution_count": 5,
     "metadata": {},
     "output_type": "execute_result"
    }
   ],
   "source": [
    "type(train)"
   ]
  },
  {
   "cell_type": "markdown",
   "metadata": {},
   "source": [
    "___\n",
    "## Classificador automático de sentimento\n"
   ]
  },
  {
   "cell_type": "markdown",
   "metadata": {},
   "source": [
    "Faça aqui uma descrição do seu produto e o que considerou como relevante ou não relevante na classificação dos tweets.\n",
    "\n",
    "ESCREVA AQUI..."
   ]
  },
  {
   "cell_type": "markdown",
   "metadata": {},
   "source": [
    "___\n",
    "### Montando um Classificador Naive-Bayes\n",
    "\n",
    "Considerando apenas as mensagens da planilha Treinamento, ensine  seu classificador."
   ]
  },
  {
   "cell_type": "markdown",
   "metadata": {},
   "source": [
    "### Limpeza do dataset"
   ]
  },
  {
   "cell_type": "code",
   "execution_count": 6,
   "metadata": {},
   "outputs": [],
   "source": [
    "import re\n",
    "\n",
    "def clean_tweet(texto):\n",
    "    \"\"\"\n",
    "    Essa função define um padrão de pontuações que serão\n",
    "    removidas do texto de entrada.\n",
    "    \"\"\"\n",
    "    caracteres = '[\\-/!.:?;]'\n",
    "    padrao = re.compile(caracteres)\n",
    "    texto_limpo = re.sub(padrao, '', texto)\n",
    "    return texto_limpo\n",
    "\n",
    "# Limpeza dos dados (pontuação, '\\n', 'rt', letras minúsculas)\n",
    "for indice in range(320):\n",
    "    train = train.replace(train['Treinamento'][indice], clean_tweet(train['Treinamento'][indice]))\n",
    "    train['Treinamento'] = train['Treinamento'].str.replace('[\\n]', '')\n",
    "    if train['Treinamento'][indice][:2] == 'rt':\n",
    "        train = train.replace(train['Treinamento'][indice], train['Treinamento'][indice][3:])\n",
    "    train = train.replace(train['Treinamento'][indice], train['Treinamento'][indice].lower())\n",
    "    "
   ]
  },
  {
   "cell_type": "code",
   "execution_count": 7,
   "metadata": {},
   "outputs": [],
   "source": [
    "# tweets relevantes\n",
    "tweets_relevantes = train.loc[(train['Classificação'] == 1), :]\n",
    "\n",
    "# tweets irrelevantes\n",
    "tweets_irrelevantes = train.loc[(train['Classificação'] == 0), :]"
   ]
  },
  {
   "cell_type": "code",
   "execution_count": 8,
   "metadata": {},
   "outputs": [
    {
     "data": {
      "text/plain": [
       "guaraná        0.066560\n",
       "jesus          0.060170\n",
       "de             0.031416\n",
       "é              0.030351\n",
       "e              0.027689\n",
       "                 ...   \n",
       "caregamento    0.000532\n",
       "desde          0.000532\n",
       "qnd            0.000532\n",
       "viu,           0.000532\n",
       "meets          0.000532\n",
       "Length: 801, dtype: float64"
      ]
     },
     "execution_count": 8,
     "metadata": {},
     "output_type": "execute_result"
    }
   ],
   "source": [
    "# Transforma tweets relevantes em uma string\n",
    "texto_tweets_relevantes = ''\n",
    "for tweet in tweets_relevantes['Treinamento']:\n",
    "    tweet = str(tweet)\n",
    "    texto_tweets_relevantes += tweet\n",
    "\n",
    "# Série com as palavras do conteúdo relevante\n",
    "palavras_relevantes = pd.Series(texto_tweets_relevantes.split())\n",
    "\n",
    "# Calcula frequência relativa de cada palavra\n",
    "palavras_relevantes = palavras_relevantes.value_counts(True)\n",
    "\n",
    "# Exibe algumas\n",
    "palavras_relevantes"
   ]
  },
  {
   "cell_type": "code",
   "execution_count": 9,
   "metadata": {},
   "outputs": [
    {
     "data": {
      "text/plain": [
       "guaraná      0.060512\n",
       "jesus        0.048587\n",
       "do           0.039753\n",
       "a            0.030477\n",
       "de           0.029152\n",
       "               ...   \n",
       "coe          0.000442\n",
       "1,85idade    0.000442\n",
       "todas        0.000442\n",
       "gerais       0.000442\n",
       "nego         0.000442\n",
       "Length: 853, dtype: float64"
      ]
     },
     "execution_count": 9,
     "metadata": {},
     "output_type": "execute_result"
    }
   ],
   "source": [
    "# Transforma tweets irrelevantes em uma string\n",
    "texto_tweets_irrelevantes = ''\n",
    "for tweet in tweets_irrelevantes['Treinamento']:\n",
    "    tweet = str(tweet)\n",
    "    texto_tweets_irrelevantes += tweet\n",
    "\n",
    "# Série com as palavras do conteúdo irrelevante (normalize=True)\n",
    "palavras_irrelevantes = pd.Series(texto_tweets_irrelevantes.split())\n",
    "\n",
    "# Calcula frequência relativa de cada palavra\n",
    "palavras_irrelevantes = palavras_irrelevantes.value_counts(True)\n",
    "\n",
    "# Exibe algumas\n",
    "palavras_irrelevantes"
   ]
  },
  {
   "cell_type": "code",
   "execution_count": 10,
   "metadata": {},
   "outputs": [
    {
     "data": {
      "text/plain": [
       "guaraná                       0.063270\n",
       "jesus                         0.053852\n",
       "de                            0.030186\n",
       "do                            0.027047\n",
       "e                             0.021975\n",
       "                                ...   \n",
       "caregamento                   0.000241\n",
       "httpstcoamnccvsvywsaudades    0.000241\n",
       "tbdepois                      0.000241\n",
       "potável                       0.000241\n",
       "mimo                          0.000241\n",
       "Length: 1450, dtype: float64"
      ]
     },
     "execution_count": 10,
     "metadata": {},
     "output_type": "execute_result"
    }
   ],
   "source": [
    "# Conjunto universo\n",
    "textao = texto_tweets_relevantes + texto_tweets_irrelevantes\n",
    "\n",
    "# Palavras do universo\n",
    "palavras_textao = pd.Series(textao.split())\n",
    "\n",
    "# Obtém frequência de cada palavra no universo\n",
    "frequencia_palavras_textao = palavras_textao.value_counts(True)\n",
    "frequencia_palavras_textao"
   ]
  },
  {
   "cell_type": "code",
   "execution_count": 11,
   "metadata": {},
   "outputs": [
    {
     "data": {
      "text/plain": [
       "'rt @botbissexual: bissexuais tomando guarana jesus'"
      ]
     },
     "execution_count": 11,
     "metadata": {},
     "output_type": "execute_result"
    }
   ],
   "source": [
    "test['Teste'][2]"
   ]
  },
  {
   "cell_type": "markdown",
   "metadata": {},
   "source": [
    "___\n",
    "### Verificando a performance do Classificador\n",
    "\n",
    "Agora você deve testar o seu classificador com a base de Testes."
   ]
  },
  {
   "cell_type": "code",
   "execution_count": 12,
   "metadata": {
    "scrolled": false
   },
   "outputs": [],
   "source": [
    "# Limpando dados de teste\n",
    "# Limpeza dos dados (pontuação, '\\n', 'rt', letras minúsculas)\n",
    "for indice in range(161):\n",
    "    test = test.replace(test['Teste'][indice], clean_tweet(test['Teste'][indice]))\n",
    "    test['Teste'] = test['Teste'].str.replace('[\\n]', '')\n",
    "    if test['Teste'][indice][:2] == 'rt':\n",
    "        test = test.replace(test['Teste'][indice], test['Teste'][indice][3:])\n",
    "    test = test.replace(test['Teste'][indice], test['Teste'][indice].lower())"
   ]
  },
  {
   "cell_type": "code",
   "execution_count": 13,
   "metadata": {},
   "outputs": [
    {
     "name": "stdout",
     "output_type": "stream",
     "text": [
      "Relevante: 0.4535136440473316 \n",
      "Irrelevante: 0.546727843516059\n"
     ]
    }
   ],
   "source": [
    "# Probabilidade relevante\n",
    "P_R = len(texto_tweets_relevantes.split()) / len(textao.split())\n",
    "\n",
    "# Probabilidade irrelevante\n",
    "P_IR = len(texto_tweets_irrelevantes.split()) / len(textao.split())\n",
    "\n",
    "print(f'Relevante: {P_R} \\nIrrelevante: {P_IR}')"
   ]
  },
  {
   "cell_type": "code",
   "execution_count": 14,
   "metadata": {
    "scrolled": true
   },
   "outputs": [
    {
     "data": {
      "text/plain": [
       "[3.605717642830691e-15,\n",
       " 4.556500153587885e-34,\n",
       " 3.9459557723456947e-07,\n",
       " 2.361100689421665e-46,\n",
       " 5.149872324993338e-10,\n",
       " 1.1272418187676993e-17,\n",
       " 4.105361136704862e-35,\n",
       " 6.683165487187704e-18,\n",
       " 2.1277212497942473e-05,\n",
       " 8.272683295520271e-48,\n",
       " 5.405989111739045e-27,\n",
       " 9.776816604474934e-30,\n",
       " 8.598115012468845e-16,\n",
       " 1.5158391660358622e-41,\n",
       " 9.890322805675227e-15,\n",
       " 2.1629463764972015e-08,\n",
       " 2.42411455553467e-10,\n",
       " 3.8829708265125486e-10,\n",
       " 4.02720015814479e-07,\n",
       " 1.5428167924189626e-41,\n",
       " 1.3548000137179434e-41,\n",
       " 8.7610576219575215e-16,\n",
       " 5.021737958390706e-23,\n",
       " 1.9274326768306544e-13,\n",
       " 3.125635233580923e-12,\n",
       " 1.3678819338018618e-16,\n",
       " 6.641622786946815e-32,\n",
       " 6.919530549050952e-16,\n",
       " 2.129114092313743e-11,\n",
       " 2.697170214689744e-27,\n",
       " 2.4313238585762715e-19,\n",
       " 2.891149015245982e-14,\n",
       " 1.619542906447329e-18,\n",
       " 2.9278812855889207e-49,\n",
       " 2.9760667927948724e-11,\n",
       " 1.5844111594697514e-24,\n",
       " 3.5907358428969015e-18,\n",
       " 5.512732329012368e-05,\n",
       " 3.2882964769547456e-05,\n",
       " 2.85228811793644e-23,\n",
       " 9.671460226337489e-07,\n",
       " 4.763691835997871e-25,\n",
       " 1.6939468515674213e-37,\n",
       " 3.148140038823403e-13,\n",
       " 4.947638193677513e-39,\n",
       " 9.143595814183567e-17,\n",
       " 2.7945267184343842e-08,\n",
       " 2.289556391871566e-13,\n",
       " 1.4920582619325179e-15,\n",
       " 8.299323282795614e-27,\n",
       " 4.824422397157942e-13,\n",
       " 8.446009989871927e-11,\n",
       " 1.6269947999753085e-25,\n",
       " 1.3129706438800905e-09,\n",
       " 5.029159317695493e-05,\n",
       " 1.4257659747759625e-44,\n",
       " 8.453412695905066e-15,\n",
       " 2.9354272252462025e-08,\n",
       " 3.5770734097347204e-20,\n",
       " 2.1277212497942473e-05,\n",
       " 3.777768046588082e-12,\n",
       " 1.6103454553824274e-18,\n",
       " 1.5449616974980013e-08,\n",
       " 3.851777071185181e-21,\n",
       " 1.8766185426233007e-12,\n",
       " 2.1011479085972815e-07,\n",
       " 2.2484829622481305e-41,\n",
       " 5.394721530368305e-15,\n",
       " 3.6049106274953362e-09,\n",
       " 1.8696122645476254e-20,\n",
       " 5.932200883890239e-21,\n",
       " 4.253794540444497e-07,\n",
       " 1.4087913317407718e-38,\n",
       " 4.390224381413726e-11,\n",
       " 9.0629345260128e-31,\n",
       " 5.388190390501031e-15,\n",
       " 1.893734367627373e-27,\n",
       " 0.00181630023050618,\n",
       " 3.9158773589406213e-10,\n",
       " 4.254378736283363e-41,\n",
       " 5.512732329012367e-05,\n",
       " 1.2334776367193606e-20,\n",
       " 3.787532511059468e-18,\n",
       " 1.1630101405995165e-35,\n",
       " 1.5449616974980013e-09,\n",
       " 1.194265575730099e-16,\n",
       " 6.564853219400451e-10,\n",
       " 6.898924027935856e-11,\n",
       " 4.580331929851688e-13,\n",
       " 3.9201461141987165e-19,\n",
       " 1.0814731882486009e-08,\n",
       " 2.2459656983574163e-14,\n",
       " 2.212081059109203e-26,\n",
       " 6.770022158436242e-06,\n",
       " 2.5990313983000058e-42,\n",
       " 1.6094594672925155e-17,\n",
       " 0.030185945423810673,\n",
       " 2.7849503757790207e-17,\n",
       " 5.1860656504267025e-36,\n",
       " 2.3019694254358516e-27,\n",
       " 2.9354272252462025e-08,\n",
       " 1.501009518239802e-13,\n",
       " 9.088416144733402e-19,\n",
       " 1.3453821222804841e-11,\n",
       " 1.9610713813574634e-09,\n",
       " 2.6496772456740733e-24,\n",
       " 7.029872635858714e-12,\n",
       " 7.67819089988357e-12,\n",
       " 4.853850673041315e-16,\n",
       " 5.696489405002541e-18,\n",
       " 4.3136723880560705e-48,\n",
       " 1.495520472704577e-25,\n",
       " 7.295303163801557e-25,\n",
       " 2.205786022386527e-09,\n",
       " 1.544961697498001e-08,\n",
       " 3.8533725216916467e-16,\n",
       " 1.4541428724259313e-21,\n",
       " 2.3260607986297215e-12,\n",
       " 4.497342912604861e-14,\n",
       " 8.11803844357281e-32,\n",
       " 5.137830028922197e-16,\n",
       " 2.6779336089965357e-08,\n",
       " 9.931586397515622e-31,\n",
       " 3.5967589480646876e-21,\n",
       " 9.034607873510436e-08,\n",
       " 2.924615013638566e-36,\n",
       " 7.184253854001376e-17,\n",
       " 5.7132922885574605e-36,\n",
       " 4.043086584502938e-17,\n",
       " 1.5259780199951955e-31,\n",
       " 3.1893741072206754e-28,\n",
       " 2.533802996961578e-10,\n",
       " 1.1941410317445334e-11,\n",
       " 3.8287933904197573e-22,\n",
       " 1.8377663387073124e-43,\n",
       " 1.1785026055712007e-17,\n",
       " 1.587840727719412e-20,\n",
       " 2.5403093874315776e-24,\n",
       " 1.0962736369334216e-17,\n",
       " 1.29281440671318e-20,\n",
       " 6.553271101224226e-13,\n",
       " 7.375833956774747e-15,\n",
       " 6.766095982879266e-33,\n",
       " 2.8745880483623183e-23,\n",
       " 3.071745446849524e-38,\n",
       " 3.3107801670100252e-18,\n",
       " 4.916571213459928e-20,\n",
       " 5.0139601640140857e-20,\n",
       " 1.2221984937414514e-21,\n",
       " 8.750225543351513e-10,\n",
       " 2.059124950425336e-08,\n",
       " 2.303457269965071e-11,\n",
       " 3.2634833074813095e-19,\n",
       " 9.306874310865417e-16,\n",
       " 5.500875337559443e-10,\n",
       " 2.0353055907234204e-28,\n",
       " 8.806281675738606e-08,\n",
       " 3.8067215226396896e-16,\n",
       " 2.5359967657901166e-09,\n",
       " 1.586160676097948e-07,\n",
       " 8.453412695905066e-15]"
      ]
     },
     "execution_count": 14,
     "metadata": {},
     "output_type": "execute_result"
    }
   ],
   "source": [
    "P_TdadoR = P_R\n",
    "\n",
    "# Lista P_TdadoR para cada tweet\n",
    "P_TdadoR_tweets = []\n",
    "\n",
    "for tweet in test['Teste']:\n",
    "    for palavra in tweet.split():\n",
    "        if palavra not in palavras_relevantes:\n",
    "            pass\n",
    "        else:\n",
    "            P_TdadoR *= palavras_relevantes[palavra]\n",
    "    P_TdadoR_tweets.append(P_TdadoR)\n",
    "    # Reseta variável para próximo tweet\n",
    "    P_TdadoR = P_R\n",
    "\n",
    "P_TdadoR_tweets"
   ]
  },
  {
   "cell_type": "code",
   "execution_count": 15,
   "metadata": {},
   "outputs": [
    {
     "data": {
      "text/plain": [
       "[3.425329177275184e-15,\n",
       " 5.3215715959611235e-50,\n",
       " 6.218932681053281e-07,\n",
       " 2.0738846666927274e-67,\n",
       " 0.0016074282598474447,\n",
       " 1.2736607463997382e-16,\n",
       " 5.0160962387863675e-39,\n",
       " 2.996420116037429e-16,\n",
       " 5.927076851829821e-07,\n",
       " 2.1907375672270325e-37,\n",
       " 2.590787504881371e-20,\n",
       " 1.4811147903266995e-24,\n",
       " 4.263501443483342e-22,\n",
       " 8.012482174746966e-46,\n",
       " 9.844437735673798e-21,\n",
       " 1.440574327851397e-10,\n",
       " 3.421364028647068e-10,\n",
       " 1.4488410082250672e-07,\n",
       " 1.8753396599969486e-07,\n",
       " 3.4080805499481883e-38,\n",
       " 1.0211704637612688e-32,\n",
       " 2.216268196694457e-12,\n",
       " 6.822101938648751e-20,\n",
       " 2.6430760296267817e-12,\n",
       " 1.442568969228422e-08,\n",
       " 8.56506986414064e-24,\n",
       " 2.439394395847294e-33,\n",
       " 9.882459291696724e-18,\n",
       " 8.094905771074397e-18,\n",
       " 3.5018584339436716e-31,\n",
       " 2.3019252816836875e-16,\n",
       " 1.7453112048968846e-10,\n",
       " 2.516203082113107e-19,\n",
       " 5.558555058202613e-48,\n",
       " 1.0613938109359484e-07,\n",
       " 2.2753065337657088e-26,\n",
       " 9.359086051479852e-18,\n",
       " 1.9879854803766982e-05,\n",
       " 1.8459865174926486e-05,\n",
       " 1.5783874645123434e-21,\n",
       " 2.216268196694457e-12,\n",
       " 1.4986793863129804e-26,\n",
       " 2.085386070008103e-32,\n",
       " 7.277083660249405e-18,\n",
       " 6.85493478965619e-38,\n",
       " 2.1805377244420944e-12,\n",
       " 1.5382518999071716e-09,\n",
       " 8.920381599990387e-14,\n",
       " 1.1051062299973544e-23,\n",
       " 1.3620780321616843e-31,\n",
       " 5.485263786818782e-10,\n",
       " 3.951398664292039e-11,\n",
       " 5.533076253969456e-24,\n",
       " 1.5513877376861195e-11,\n",
       " 2.4460952086916725e-08,\n",
       " 1.0277344612326459e-31,\n",
       " 1.9655225248056683e-11,\n",
       " 1.9879854803766982e-05,\n",
       " 1.7403259186636097e-19,\n",
       " 5.927076851829821e-07,\n",
       " 2.9439993750630394e-19,\n",
       " 3.8447572397986756e-14,\n",
       " 9.40805849496797e-09,\n",
       " 1.306318714256142e-19,\n",
       " 1.085971416380284e-09,\n",
       " 5.7075554869472343e-08,\n",
       " 1.5068301076249567e-47,\n",
       " 4.565973510152274e-14,\n",
       " 1.379848579261969e-08,\n",
       " 1.3520826336972636e-20,\n",
       " 2.9466543855120736e-34,\n",
       " 1.0348864344464769e-07,\n",
       " 4.788236038813995e-47,\n",
       " 6.14485447824435e-19,\n",
       " 5.590510500043721e-25,\n",
       " 1.7403259186636096e-18,\n",
       " 4.758001190161757e-18,\n",
       " 1.4199896288404987e-06,\n",
       " 2.05572580082083e-13,\n",
       " 1.478139599900228e-60,\n",
       " 1.9879854803766982e-05,\n",
       " 2.634265776194693e-12,\n",
       " 9.476210012239557e-21,\n",
       " 2.4513705763633048e-27,\n",
       " 8.311005737604214e-13,\n",
       " 6.187825488581722e-20,\n",
       " 1.9392346721076498e-10,\n",
       " 3.756226645461206e-14,\n",
       " 7.55258477689669e-18,\n",
       " 1.3770776446116826e-17,\n",
       " 7.479905163843791e-12,\n",
       " 2.939687895173787e-12,\n",
       " 1.8334602677926056e-22,\n",
       " 2.1299844432607484e-06,\n",
       " 3.0499857852011322e-40,\n",
       " 3.1858855327482813e-12,\n",
       " 0.0330837961844965,\n",
       " 5.225274857024567e-16,\n",
       " 5.794038467057009e-50,\n",
       " 5.2143401133256344e-30,\n",
       " 1.9879854803766982e-05,\n",
       " 5.969845272506685e-16,\n",
       " 5.0949843473050706e-14,\n",
       " 1.273566991468093e-16,\n",
       " 2.5003113389754083e-13,\n",
       " 8.450516460607898e-24,\n",
       " 1.6638633486683634e-09,\n",
       " 2.7969830628596134e-17,\n",
       " 5.6273064303341995e-11,\n",
       " 1.2965168950662575e-09,\n",
       " 3.8671795249637234e-28,\n",
       " 2.035618753835363e-22,\n",
       " 7.718354319487918e-27,\n",
       " 2.6368574525206202e-21,\n",
       " 2.8224175484903903e-09,\n",
       " 5.653245952257283e-13,\n",
       " 6.802477961534679e-20,\n",
       " 8.479868928385925e-13,\n",
       " 6.24428939616503e-15,\n",
       " 6.756459329625334e-45,\n",
       " 8.31017219430098e-25,\n",
       " 5.958437046813048e-09,\n",
       " 2.0068570824489872e-26,\n",
       " 4.425619975584961e-21,\n",
       " 4.4051267160446374e-14,\n",
       " 7.479213931036098e-51,\n",
       " 2.529445552499129e-15,\n",
       " 1.1906969857568033e-31,\n",
       " 4.990790647815589e-16,\n",
       " 7.679429835947147e-36,\n",
       " 6.786258579219737e-21,\n",
       " 5.346428811611809e-17,\n",
       " 1.522874813683355e-11,\n",
       " 1.5382518999071716e-09,\n",
       " 7.529462125206058e-59,\n",
       " 1.1134673291180892e-15,\n",
       " 2.9975252298152767e-24,\n",
       " 5.106085193315064e-19,\n",
       " 7.250543123201575e-22,\n",
       " 9.023912170848345e-18,\n",
       " 4.5813317846864215e-12,\n",
       " 6.0521790055726824e-18,\n",
       " 1.6022687883664804e-61,\n",
       " 6.12282769663675e-26,\n",
       " 3.9372314873189354e-35,\n",
       " 2.5060968243222133e-14,\n",
       " 1.2025809253427376e-19,\n",
       " 9.915272647113265e-21,\n",
       " 2.73313846668804e-20,\n",
       " 1.7447672117940596e-09,\n",
       " 2.0965573597927126e-10,\n",
       " 1.2544077993290627e-08,\n",
       " 2.0905917199768205e-15,\n",
       " 2.2700152394222946e-17,\n",
       " 5.381409459121678e-07,\n",
       " 4.055433354465964e-24,\n",
       " 1.9879854803766982e-05,\n",
       " 2.1585120908618712e-13,\n",
       " 6.050412176975867e-10,\n",
       " 2.283680731163617e-12,\n",
       " 1.9655225248056683e-11]"
      ]
     },
     "execution_count": 15,
     "metadata": {},
     "output_type": "execute_result"
    }
   ],
   "source": [
    "P_TdadoIR = P_IR\n",
    "\n",
    "# Lista P_TdadoIR para cada tweet\n",
    "P_TdadoIR_tweets = []\n",
    "\n",
    "for tweet in test['Teste']:\n",
    "    for palavra in tweet.split():\n",
    "        if palavra not in palavras_irrelevantes:\n",
    "            pass\n",
    "        else:\n",
    "            P_TdadoIR *= palavras_irrelevantes[palavra]\n",
    "    P_TdadoIR_tweets.append(P_TdadoIR)\n",
    "    # Reseta variável para próximo tweet\n",
    "    P_TdadoIR = P_IR\n",
    "\n",
    "P_TdadoIR_tweets"
   ]
  },
  {
   "cell_type": "code",
   "execution_count": 16,
   "metadata": {},
   "outputs": [
    {
     "data": {
      "text/html": [
       "<div>\n",
       "<style scoped>\n",
       "    .dataframe tbody tr th:only-of-type {\n",
       "        vertical-align: middle;\n",
       "    }\n",
       "\n",
       "    .dataframe tbody tr th {\n",
       "        vertical-align: top;\n",
       "    }\n",
       "\n",
       "    .dataframe thead th {\n",
       "        text-align: right;\n",
       "    }\n",
       "</style>\n",
       "<table border=\"1\" class=\"dataframe\">\n",
       "  <thead>\n",
       "    <tr style=\"text-align: right;\">\n",
       "      <th></th>\n",
       "      <th>Teste</th>\n",
       "      <th>Classificação</th>\n",
       "      <th>Naive-Bayes</th>\n",
       "    </tr>\n",
       "  </thead>\n",
       "  <tbody>\n",
       "    <tr>\n",
       "      <th>0</th>\n",
       "      <td>foda que ela é cocacola e eu guaraná jesus😫</td>\n",
       "      <td>1</td>\n",
       "      <td>1.0</td>\n",
       "    </tr>\n",
       "    <tr>\n",
       "      <th>1</th>\n",
       "      <td>@niyeongs @tealcookie eu gostei de pernambuco ...</td>\n",
       "      <td>0</td>\n",
       "      <td>1.0</td>\n",
       "    </tr>\n",
       "    <tr>\n",
       "      <th>2</th>\n",
       "      <td>@botbissexual bissexuais tomando guarana jesus</td>\n",
       "      <td>0</td>\n",
       "      <td>0.0</td>\n",
       "    </tr>\n",
       "    <tr>\n",
       "      <th>3</th>\n",
       "      <td>a bandeira do estado do cara parece mais uma l...</td>\n",
       "      <td>0</td>\n",
       "      <td>1.0</td>\n",
       "    </tr>\n",
       "    <tr>\n",
       "      <th>4</th>\n",
       "      <td>@marilhera @inesteticas cajuína meets guaraná ...</td>\n",
       "      <td>0</td>\n",
       "      <td>0.0</td>\n",
       "    </tr>\n",
       "  </tbody>\n",
       "</table>\n",
       "</div>"
      ],
      "text/plain": [
       "                                               Teste  Classificação  \\\n",
       "0        foda que ela é cocacola e eu guaraná jesus😫              1   \n",
       "1  @niyeongs @tealcookie eu gostei de pernambuco ...              0   \n",
       "2     @botbissexual bissexuais tomando guarana jesus              0   \n",
       "3  a bandeira do estado do cara parece mais uma l...              0   \n",
       "4  @marilhera @inesteticas cajuína meets guaraná ...              0   \n",
       "\n",
       "   Naive-Bayes  \n",
       "0          1.0  \n",
       "1          1.0  \n",
       "2          0.0  \n",
       "3          1.0  \n",
       "4          0.0  "
      ]
     },
     "execution_count": 16,
     "metadata": {},
     "output_type": "execute_result"
    }
   ],
   "source": [
    "# Classificador NB\n",
    "\n",
    "for indice in range(len(P_TdadoR_tweets)):\n",
    "    if P_TdadoR_tweets[indice] > P_TdadoIR_tweets[indice]:\n",
    "        test.loc[indice, 'Naive-Bayes'] = 1\n",
    "    else:\n",
    "        test.loc[indice, 'Naive-Bayes'] = 0\n",
    "        \n",
    "test.head()"
   ]
  },
  {
   "cell_type": "code",
   "execution_count": null,
   "metadata": {},
   "outputs": [],
   "source": []
  },
  {
   "cell_type": "markdown",
   "metadata": {},
   "source": [
    "___\n",
    "### Concluindo"
   ]
  },
  {
   "cell_type": "code",
   "execution_count": null,
   "metadata": {},
   "outputs": [],
   "source": []
  },
  {
   "cell_type": "code",
   "execution_count": null,
   "metadata": {},
   "outputs": [],
   "source": []
  },
  {
   "cell_type": "markdown",
   "metadata": {},
   "source": [
    "___\n",
    "## Aperfeiçoamento:\n",
    "\n",
    "Os trabalhos vão evoluir em conceito dependendo da quantidade de itens avançados:\n",
    "\n",
    "* Limpar: \\n, :, \", ', (, ), etc SEM remover emojis\n",
    "* Corrigir separação de espaços entre palavras e emojis ou entre emojis e emojis\n",
    "* Propor outras limpezas e transformações que não afetem a qualidade da informação ou classificação\n",
    "* Criar categorias intermediárias de relevância baseadas na probabilidade: ex.: muito relevante, relevante, neutro, irrelevante, muito irrelevante (3 categorias: C, mais categorias conta para B)\n",
    "* Explicar por que não posso usar o próprio classificador para gerar mais amostras de treinamento\n",
    "* Propor diferentes cenários para Naïve Bayes fora do contexto do projeto\n",
    "* Sugerir e explicar melhorias reais com indicações concretas de como implementar (indicar como fazer e indicar material de pesquisa)\n",
    "* Montar um dashboard que realiza análise de sentimento e visualiza estes dados"
   ]
  },
  {
   "cell_type": "markdown",
   "metadata": {},
   "source": [
    "___\n",
    "## Referências"
   ]
  },
  {
   "cell_type": "markdown",
   "metadata": {},
   "source": [
    "[Naive Bayes and Text Classification](https://arxiv.org/pdf/1410.5329.pdf)  **Mais completo**\n",
    "\n",
    "[A practical explanation of a Naive Bayes Classifier](https://monkeylearn.com/blog/practical-explanation-naive-bayes-classifier/) **Mais simples**"
   ]
  },
  {
   "cell_type": "code",
   "execution_count": null,
   "metadata": {},
   "outputs": [],
   "source": []
  }
 ],
 "metadata": {
  "kernelspec": {
   "display_name": "Python 3",
   "language": "python",
   "name": "python3"
  },
  "language_info": {
   "codemirror_mode": {
    "name": "ipython",
    "version": 3
   },
   "file_extension": ".py",
   "mimetype": "text/x-python",
   "name": "python",
   "nbconvert_exporter": "python",
   "pygments_lexer": "ipython3",
   "version": "3.8.3"
  }
 },
 "nbformat": 4,
 "nbformat_minor": 4
}
