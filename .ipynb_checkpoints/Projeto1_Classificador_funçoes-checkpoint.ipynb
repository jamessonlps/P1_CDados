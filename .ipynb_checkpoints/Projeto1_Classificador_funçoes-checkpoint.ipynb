{
 "cells": [
  {
   "cell_type": "markdown",
   "metadata": {},
   "source": [
    "# Projeto 1 - Ciência dos Dados"
   ]
  },
  {
   "cell_type": "markdown",
   "metadata": {},
   "source": [
    "Nome: Ivan de Alcântara Barbosa Barros\n",
    "\n",
    "Nome: Jamesson Leandro Paiva Santos"
   ]
  },
  {
   "cell_type": "markdown",
   "metadata": {},
   "source": [
    "**Atenção:** Serão permitidos grupos de três pessoas, mas com uma rubrica mais exigente. Grupos deste tamanho precisarão fazer um questionário de avaliação de trabalho em equipe"
   ]
  },
  {
   "cell_type": "markdown",
   "metadata": {},
   "source": [
    "___\n",
    "Carregando algumas bibliotecas:"
   ]
  },
  {
   "cell_type": "code",
   "execution_count": 1,
   "metadata": {},
   "outputs": [],
   "source": [
    "%matplotlib inline\n",
    "import pandas as pd\n",
    "import matplotlib.pyplot as plt\n",
    "import numpy as np\n",
    "import os"
   ]
  },
  {
   "cell_type": "markdown",
   "metadata": {},
   "source": [
    "**Em `filename`, coloque o nome do seu arquivo de dados!**"
   ]
  },
  {
   "cell_type": "code",
   "execution_count": 51,
   "metadata": {
    "scrolled": false
   },
   "outputs": [
    {
     "name": "stdout",
     "output_type": "stream",
     "text": [
      "Encontrei o arquivo guarana_jesus.xlsx, tudo certo para prosseguir com a prova!\n"
     ]
    }
   ],
   "source": [
    "import os\n",
    "\n",
    "filename = 'guarana_jesus.xlsx'\n",
    "if filename in os.listdir():\n",
    "    print(f'Encontrei o arquivo {filename}, tudo certo para prosseguir com a prova!')\n",
    "else:\n",
    "    print(f'Não encontrei o arquivo {filename} aqui no diretório {os.getcwd()}, será que você não baixou o arquivo?')"
   ]
  },
  {
   "cell_type": "markdown",
   "metadata": {},
   "source": [
    "Carregando a base de dados com os tweets classificados como relevantes e não relevantes:"
   ]
  },
  {
   "cell_type": "code",
   "execution_count": 52,
   "metadata": {},
   "outputs": [
    {
     "data": {
      "text/html": [
       "<div>\n",
       "<style scoped>\n",
       "    .dataframe tbody tr th:only-of-type {\n",
       "        vertical-align: middle;\n",
       "    }\n",
       "\n",
       "    .dataframe tbody tr th {\n",
       "        vertical-align: top;\n",
       "    }\n",
       "\n",
       "    .dataframe thead th {\n",
       "        text-align: right;\n",
       "    }\n",
       "</style>\n",
       "<table border=\"1\" class=\"dataframe\">\n",
       "  <thead>\n",
       "    <tr style=\"text-align: right;\">\n",
       "      <th></th>\n",
       "      <th>Treinamento</th>\n",
       "      <th>Classificação</th>\n",
       "    </tr>\n",
       "  </thead>\n",
       "  <tbody>\n",
       "    <tr>\n",
       "      <td>0</td>\n",
       "      <td>rt @giussilvestre: os éguas que tão cancelando...</td>\n",
       "      <td>0</td>\n",
       "    </tr>\n",
       "    <tr>\n",
       "      <td>1</td>\n",
       "      <td>@whindersson @lilwhind guaraná jesus... show d...</td>\n",
       "      <td>1</td>\n",
       "    </tr>\n",
       "    <tr>\n",
       "      <td>2</td>\n",
       "      <td>bissexuais tomando guarana jesus</td>\n",
       "      <td>0</td>\n",
       "    </tr>\n",
       "    <tr>\n",
       "      <td>3</td>\n",
       "      <td>@whindersson @lilwhind guaraná jesus é tipo al...</td>\n",
       "      <td>0</td>\n",
       "    </tr>\n",
       "    <tr>\n",
       "      <td>4</td>\n",
       "      <td>rt @maickjhonn: piaui nem tem guaraná jesus is...</td>\n",
       "      <td>0</td>\n",
       "    </tr>\n",
       "  </tbody>\n",
       "</table>\n",
       "</div>"
      ],
      "text/plain": [
       "                                         Treinamento  Classificação\n",
       "0  rt @giussilvestre: os éguas que tão cancelando...              0\n",
       "1  @whindersson @lilwhind guaraná jesus... show d...              1\n",
       "2                   bissexuais tomando guarana jesus              0\n",
       "3  @whindersson @lilwhind guaraná jesus é tipo al...              0\n",
       "4  rt @maickjhonn: piaui nem tem guaraná jesus is...              0"
      ]
     },
     "execution_count": 52,
     "metadata": {},
     "output_type": "execute_result"
    }
   ],
   "source": [
    "# Carrega dataset de treino\n",
    "train = pd.read_excel(filename)\n",
    "train.head(5)"
   ]
  },
  {
   "cell_type": "code",
   "execution_count": 53,
   "metadata": {
    "scrolled": false
   },
   "outputs": [
    {
     "data": {
      "text/html": [
       "<div>\n",
       "<style scoped>\n",
       "    .dataframe tbody tr th:only-of-type {\n",
       "        vertical-align: middle;\n",
       "    }\n",
       "\n",
       "    .dataframe tbody tr th {\n",
       "        vertical-align: top;\n",
       "    }\n",
       "\n",
       "    .dataframe thead th {\n",
       "        text-align: right;\n",
       "    }\n",
       "</style>\n",
       "<table border=\"1\" class=\"dataframe\">\n",
       "  <thead>\n",
       "    <tr style=\"text-align: right;\">\n",
       "      <th></th>\n",
       "      <th>Teste</th>\n",
       "      <th>Classificação</th>\n",
       "    </tr>\n",
       "  </thead>\n",
       "  <tbody>\n",
       "    <tr>\n",
       "      <td>0</td>\n",
       "      <td>foda que ela é coca-cola e eu guaraná jesus😫</td>\n",
       "      <td>1</td>\n",
       "    </tr>\n",
       "    <tr>\n",
       "      <td>1</td>\n",
       "      <td>@niyeongs @tealcookie eu gostei de pernambuco ...</td>\n",
       "      <td>0</td>\n",
       "    </tr>\n",
       "    <tr>\n",
       "      <td>2</td>\n",
       "      <td>rt @botbissexual: bissexuais tomando guarana j...</td>\n",
       "      <td>0</td>\n",
       "    </tr>\n",
       "    <tr>\n",
       "      <td>3</td>\n",
       "      <td>a bandeira do estado do cara parece mais uma l...</td>\n",
       "      <td>0</td>\n",
       "    </tr>\n",
       "    <tr>\n",
       "      <td>4</td>\n",
       "      <td>rt @marilhera: @inesteticas cajuína meets guar...</td>\n",
       "      <td>0</td>\n",
       "    </tr>\n",
       "  </tbody>\n",
       "</table>\n",
       "</div>"
      ],
      "text/plain": [
       "                                               Teste  Classificação\n",
       "0       foda que ela é coca-cola e eu guaraná jesus😫              1\n",
       "1  @niyeongs @tealcookie eu gostei de pernambuco ...              0\n",
       "2  rt @botbissexual: bissexuais tomando guarana j...              0\n",
       "3  a bandeira do estado do cara parece mais uma l...              0\n",
       "4  rt @marilhera: @inesteticas cajuína meets guar...              0"
      ]
     },
     "execution_count": 53,
     "metadata": {},
     "output_type": "execute_result"
    }
   ],
   "source": [
    "# Carrega dataset de teste\n",
    "test = pd.read_excel(filename, sheet_name = 'Teste')\n",
    "test.head(5)"
   ]
  },
  {
   "cell_type": "code",
   "execution_count": 54,
   "metadata": {},
   "outputs": [
    {
     "data": {
      "text/plain": [
       "pandas.core.frame.DataFrame"
      ]
     },
     "execution_count": 54,
     "metadata": {},
     "output_type": "execute_result"
    }
   ],
   "source": [
    "type(train)"
   ]
  },
  {
   "cell_type": "code",
   "execution_count": 55,
   "metadata": {},
   "outputs": [],
   "source": [
    "serie_0 = train[train[\"Classificação\"] == 0]\n",
    "serie_1 = train[train[\"Classificação\"] == 1]\n",
    "\n",
    "series = [serie_0, serie_1]"
   ]
  },
  {
   "cell_type": "code",
   "execution_count": 102,
   "metadata": {},
   "outputs": [
    {
     "name": "stdout",
     "output_type": "stream",
     "text": [
      "OK\n"
     ]
    }
   ],
   "source": [
    "str(list(series[0][\"Treinamento\"].values))\n",
    "str(list(series[1][\"Treinamento\"].values))\n",
    "print('OK')"
   ]
  },
  {
   "cell_type": "markdown",
   "metadata": {},
   "source": [
    "___\n",
    "## Classificador automático de sentimento\n"
   ]
  },
  {
   "cell_type": "markdown",
   "metadata": {},
   "source": [
    "Faça aqui uma descrição do seu produto e o que considerou como relevante ou não relevante na classificação dos tweets.\n",
    "\n",
    "ESCREVA AQUI..."
   ]
  },
  {
   "cell_type": "markdown",
   "metadata": {},
   "source": [
    "___\n",
    "### Montando um Classificador Naive-Bayes\n",
    "\n",
    "Considerando apenas as mensagens da planilha Treinamento, ensine  seu classificador."
   ]
  },
  {
   "cell_type": "markdown",
   "metadata": {},
   "source": [
    "### Limpeza do dataset"
   ]
  },
  {
   "cell_type": "code",
   "execution_count": 8,
   "metadata": {},
   "outputs": [
    {
     "name": "stdout",
     "output_type": "stream",
     "text": [
      "Requirement already satisfied: emoji in c:\\programdata\\anaconda3\\lib\\site-packages (0.6.0)\n"
     ]
    }
   ],
   "source": [
    "!pip install emoji\n",
    "from emoji import UNICODE_EMOJI\n",
    "import emoji\n",
    "import re \n",
    "import functools\n",
    "import operator"
   ]
  },
  {
   "cell_type": "code",
   "execution_count": 161,
   "metadata": {},
   "outputs": [],
   "source": [
    "import re\n",
    "\n",
    "def clean_tweet(texto):\n",
    "    \"\"\"\n",
    "    Essa função define um padrão de pontuações que serão\n",
    "    removidas do texto de entrada.\n",
    "    \"\"\"\n",
    "    caracteres = '[\\-/!.:?;,''\"@]'\n",
    "    padrao = re.compile(caracteres)\n",
    "    texto_limpo = re.sub(padrao, '', texto)\n",
    "    texto_limpo = emoji.get_emoji_regexp().split(texto_limpo)\n",
    "    separa = [texto.split() for texto in texto_limpo]\n",
    "    texto_limpo = functools.reduce(operator.concat, separa)\n",
    "    return texto_limpo\n",
    "\n",
    "# Limpeza dos dados (pontuação, '\\n', 'rt', letras minúsculas)\n",
    "\n",
    "def remove_outros_itens(lista):\n",
    "    \n",
    "    i = 0\n",
    "    while i < len(lista):\n",
    "\n",
    "        lista[i] = lista[i].lower()\n",
    "        lista[i] = lista[i].replace('[\\n]', ' ')\n",
    "        \n",
    "        if lista[i][0:2] == 'rt':\n",
    "            lista[i] = lista[i][3:]\n",
    "                \n",
    "        elif lista[i][:4] == 'http':\n",
    "            del lista[i]\n",
    "            \n",
    "        i+=1\n",
    "\n",
    "    return lista"
   ]
  },
  {
   "cell_type": "code",
   "execution_count": 164,
   "metadata": {},
   "outputs": [],
   "source": [
    "def limpeza_da_serie(serie):\n",
    "    limpo = []\n",
    "    \n",
    "    for tweet in serie[\"Treinamento\"]:\n",
    "        limpo.append(remove_outros_itens(clean_tweet(tweet)))\n",
    "        \n",
    "    return limpo\n",
    "\n",
    "series_tweets = [limpeza_da_serie(series[0]), limpeza_da_serie(series[1])]"
   ]
  },
  {
   "cell_type": "code",
   "execution_count": 165,
   "metadata": {},
   "outputs": [],
   "source": [
    "def laplace(quantidade_na_serie, total_serie, total):\n",
    "    return (quantidade_na_serie + 1)/(total_serie + total)"
   ]
  },
  {
   "cell_type": "code",
   "execution_count": 166,
   "metadata": {},
   "outputs": [],
   "source": [
    "def vezes_que_aparece(palavra, serie):\n",
    "    quant = 0\n",
    "    for tweet in serie:\n",
    "        quant += tweet.count(palavra)\n",
    "    return quant\n",
    "\n",
    "def total_na_serie(serie):\n",
    "    quant = 0\n",
    "    for tweet in serie:\n",
    "        quant += len(tweet)\n",
    "    return quant\n",
    "\n",
    "def lista_palavras(lista1, lista2):\n",
    "    quant = []\n",
    "    for tweet in lista1:\n",
    "        for palavra in tweet:\n",
    "            if palavra not in quant:\n",
    "                quant.append(palavra)                \n",
    "    for tweet in lista2:\n",
    "        for palavra in tweet:\n",
    "            if palavra not in quant:\n",
    "                quant.append(palavra)            \n",
    "    return quant\n",
    "\n",
    "total = len(lista_palavras(series_tweets[0],series_tweets[1]))"
   ]
  },
  {
   "cell_type": "code",
   "execution_count": 167,
   "metadata": {},
   "outputs": [],
   "source": [
    "probs = []\n",
    "for serie in series_tweets:\n",
    "    dicio = {}\n",
    "    for tweet in serie:\n",
    "        for palavra in tweet:\n",
    "            dicio[palavra] = laplace(vezes_que_aparece(palavra, serie), len(serie), total)\n",
    "    probs.append(pd.Series(dicio))"
   ]
  },
  {
   "cell_type": "markdown",
   "metadata": {},
   "source": [
    "___\n",
    "### Verificando a performance do Classificador\n",
    "\n",
    "Agora você deve testar o seu classificador com a base de Testes."
   ]
  },
  {
   "cell_type": "code",
   "execution_count": 168,
   "metadata": {},
   "outputs": [],
   "source": [
    "def limpando(tweet):\n",
    "    limpo = remove_outros_itens(clean_tweet(str(tweet)))\n",
    "    return limpo\n",
    "\n",
    "test_tweets = []\n",
    "for tweet in test['Teste']:\n",
    "    test_tweets.append(limpando(tweet))\n",
    "    \n",
    "series_test = pd.Series(test_tweets)"
   ]
  },
  {
   "cell_type": "code",
   "execution_count": 169,
   "metadata": {},
   "outputs": [],
   "source": [
    "def compara(frase):\n",
    "    prob_serie_0 = 1\n",
    "    prob_serie_1 = 1\n",
    "\n",
    "    for palavra in frase:\n",
    "        if (palavra not in probs[0].index):\n",
    "            prob_serie_0 *= laplace(0, total_na_serie(series_tweets[0]), total)\n",
    "        else: \n",
    "            prob_serie_0 *= probs[0][palavra]\n",
    "\n",
    "    for palavra in frase:\n",
    "        if (palavra not in probs[1].index):\n",
    "            prob_serie_1 *= laplace(0, total_na_serie(series_tweets[1]), total) \n",
    "        else:\n",
    "            prob_serie_1 *= probs[1][palavra]\n",
    "            \n",
    "    if prob_serie_0 > prob_serie_1:\n",
    "        return 0\n",
    "    else:\n",
    "        return 1"
   ]
  },
  {
   "cell_type": "code",
   "execution_count": 170,
   "metadata": {},
   "outputs": [],
   "source": [
    "def conclusao(coluna_df, n):\n",
    "    return compara(coluna_df[n])"
   ]
  },
  {
   "cell_type": "code",
   "execution_count": 171,
   "metadata": {
    "scrolled": false
   },
   "outputs": [],
   "source": [
    "Classificação_modelo = []\n",
    "for i in range(0, len(test['Teste'])):\n",
    "    Classificação_modelo.append(conclusao(test['Teste'], i))"
   ]
  },
  {
   "cell_type": "code",
   "execution_count": 172,
   "metadata": {},
   "outputs": [],
   "source": [
    "test[\"Naive Bayes\"] = Classificação_modelo"
   ]
  },
  {
   "cell_type": "code",
   "execution_count": 173,
   "metadata": {},
   "outputs": [
    {
     "data": {
      "text/html": [
       "<div>\n",
       "<style scoped>\n",
       "    .dataframe tbody tr th:only-of-type {\n",
       "        vertical-align: middle;\n",
       "    }\n",
       "\n",
       "    .dataframe tbody tr th {\n",
       "        vertical-align: top;\n",
       "    }\n",
       "\n",
       "    .dataframe thead th {\n",
       "        text-align: right;\n",
       "    }\n",
       "</style>\n",
       "<table border=\"1\" class=\"dataframe\">\n",
       "  <thead>\n",
       "    <tr style=\"text-align: right;\">\n",
       "      <th>Naive Bayes</th>\n",
       "      <th>0</th>\n",
       "      <th>1</th>\n",
       "    </tr>\n",
       "    <tr>\n",
       "      <th>Classificação</th>\n",
       "      <th></th>\n",
       "      <th></th>\n",
       "    </tr>\n",
       "  </thead>\n",
       "  <tbody>\n",
       "    <tr>\n",
       "      <td>0</td>\n",
       "      <td>0.347826</td>\n",
       "      <td>0.173913</td>\n",
       "    </tr>\n",
       "    <tr>\n",
       "      <td>1</td>\n",
       "      <td>0.360248</td>\n",
       "      <td>0.118012</td>\n",
       "    </tr>\n",
       "  </tbody>\n",
       "</table>\n",
       "</div>"
      ],
      "text/plain": [
       "Naive Bayes           0         1\n",
       "Classificação                    \n",
       "0              0.347826  0.173913\n",
       "1              0.360248  0.118012"
      ]
     },
     "execution_count": 173,
     "metadata": {},
     "output_type": "execute_result"
    }
   ],
   "source": [
    "pd.crosstab(test['Classificação'], test['Naive Bayes'], normalize = True)"
   ]
  },
  {
   "cell_type": "code",
   "execution_count": 174,
   "metadata": {},
   "outputs": [
    {
     "name": "stdout",
     "output_type": "stream",
     "text": [
      "O acerto é de 46.58385093167702%\n"
     ]
    }
   ],
   "source": [
    "Acertos = 0\n",
    "for n in test.index:\n",
    "    if test[\"Classificação\"][n] == test[\"Naive Bayes\"][n]:\n",
    "        Acertos += 1\n",
    "        \n",
    "print('O acerto é de {}%'.format(100*(Acertos/len(Classificação_modelo))))"
   ]
  },
  {
   "cell_type": "markdown",
   "metadata": {},
   "source": [
    "___\n",
    "### Concluindo"
   ]
  },
  {
   "cell_type": "code",
   "execution_count": null,
   "metadata": {},
   "outputs": [],
   "source": []
  },
  {
   "cell_type": "code",
   "execution_count": null,
   "metadata": {},
   "outputs": [],
   "source": []
  },
  {
   "cell_type": "markdown",
   "metadata": {},
   "source": [
    "___\n",
    "## Aperfeiçoamento:\n",
    "\n",
    "Os trabalhos vão evoluir em conceito dependendo da quantidade de itens avançados:\n",
    "\n",
    "* Limpar: \\n, :, \", ', (, ), etc SEM remover emojis\n",
    "* Corrigir separação de espaços entre palavras e emojis ou entre emojis e emojis\n",
    "* Propor outras limpezas e transformações que não afetem a qualidade da informação ou classificação\n",
    "* Criar categorias intermediárias de relevância baseadas na probabilidade: ex.: muito relevante, relevante, neutro, irrelevante, muito irrelevante (3 categorias: C, mais categorias conta para B)\n",
    "* Explicar por que não posso usar o próprio classificador para gerar mais amostras de treinamento\n",
    "* Propor diferentes cenários para Naïve Bayes fora do contexto do projeto\n",
    "* Sugerir e explicar melhorias reais com indicações concretas de como implementar (indicar como fazer e indicar material de pesquisa)\n",
    "* Montar um dashboard que realiza análise de sentimento e visualiza estes dados"
   ]
  },
  {
   "cell_type": "markdown",
   "metadata": {},
   "source": [
    "___\n",
    "## Referências"
   ]
  },
  {
   "cell_type": "markdown",
   "metadata": {},
   "source": [
    "[Naive Bayes and Text Classification](https://arxiv.org/pdf/1410.5329.pdf)  **Mais completo**\n",
    "\n",
    "[A practical explanation of a Naive Bayes Classifier](https://monkeylearn.com/blog/practical-explanation-naive-bayes-classifier/) **Mais simples**"
   ]
  },
  {
   "cell_type": "code",
   "execution_count": null,
   "metadata": {},
   "outputs": [],
   "source": []
  }
 ],
 "metadata": {
  "kernelspec": {
   "display_name": "Python 3",
   "language": "python",
   "name": "python3"
  },
  "language_info": {
   "codemirror_mode": {
    "name": "ipython",
    "version": 3
   },
   "file_extension": ".py",
   "mimetype": "text/x-python",
   "name": "python",
   "nbconvert_exporter": "python",
   "pygments_lexer": "ipython3",
   "version": "3.7.4"
  }
 },
 "nbformat": 4,
 "nbformat_minor": 4
}
